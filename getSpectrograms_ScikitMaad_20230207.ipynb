{
  "nbformat": 4,
  "nbformat_minor": 0,
  "metadata": {
    "colab": {
      "provenance": [],
      "collapsed_sections": [
        "NfW5zSUHWyNs",
        "84T3ZFdawqmX",
        "V9QUgR8uptEM",
        "tYP6Y7T_w0i2",
        "kDkC5j948Pap"
      ],
      "machine_shape": "hm"
    },
    "kernelspec": {
      "name": "python3",
      "display_name": "Python 3"
    },
    "language_info": {
      "name": "python"
    },
    "gpuClass": "premium"
  },
  "cells": [
    {
      "cell_type": "markdown",
      "source": [],
      "metadata": {
        "id": "8j-rQ7xwmQno"
      }
    },
    {
      "cell_type": "code",
      "source": [
        "#!pip install scikit-maad"
      ],
      "metadata": {
        "id": "TZ1eZxRsQXm2"
      },
      "execution_count": null,
      "outputs": []
    },
    {
      "cell_type": "code",
      "execution_count": null,
      "metadata": {
        "id": "Bacy9MZqc-1d"
      },
      "outputs": [],
      "source": [
        "#Importando las librerias necesarias\n",
        "#import numpy as np\n",
        "#import pandas as pd\n",
        "#import seaborn as sns\n",
        "#import matplotlib.pyplot as plt\n",
        "#import os\n",
        "#import wave\n",
        "#from pathlib import Path\n",
        "#from scipy import signal\n",
        "#from scipy.io import wavfile\n",
        "#from sklearn.metrics import confusion_matrix\n",
        "#import random\n",
        "#import itertools\n",
        "#----------------\n",
        "#import sys\n",
        "#----------------\n",
        "#import time\n",
        "\n",
        "import os\n",
        "import maad\n",
        "import matplotlib.pyplot as plt \n",
        "import numpy as np"
      ]
    },
    {
      "cell_type": "markdown",
      "source": [
        "# 1.- GET DATA\n",
        "---\n",
        "\n"
      ],
      "metadata": {
        "id": "rGCEUe2oeMxm"
      }
    },
    {
      "cell_type": "code",
      "source": [
        "from google.colab import drive\n",
        "drive.mount('/content/drive')"
      ],
      "metadata": {
        "colab": {
          "base_uri": "https://localhost:8080/"
        },
        "id": "KkxyvxKkDtyf",
        "outputId": "9db47760-109a-405f-b983-921485cf6ac3"
      },
      "execution_count": null,
      "outputs": [
        {
          "output_type": "stream",
          "name": "stdout",
          "text": [
            "Drive already mounted at /content/drive; to attempt to forcibly remount, call drive.mount(\"/content/drive\", force_remount=True).\n"
          ]
        }
      ]
    },
    {
      "cell_type": "markdown",
      "source": [
        "##Loading the audiofiles: bird songs\n",
        "\n",
        "---\n",
        "\n"
      ],
      "metadata": {
        "id": "qEDNyaXAAjep"
      }
    },
    {
      "cell_type": "code",
      "source": [
        "# El dataset es cargado en DRIVE, se definen los directorios de lectura de los archivos de audio y escritura de los espectogramas generados\n",
        "# Previamente debe estar montada la unidad de drive en colab\n",
        "WAVES_DIR       = '/content/drive/MyDrive/Thesis/DataSets/BirdsBolivia/audio/recordings_clipped/'\n",
        "#WAVES_DIR       = '/content/drive/MyDrive/Thesis/DataSets/BirdsBolivia/audio/test/'\n",
        "SPECTOGRAMS_DIR = '/content/drive/MyDrive/Thesis/DataSets/BirdsBolivia/images/spect_clipped_maad/'\n"
      ],
      "metadata": {
        "id": "E-MM5eZJfeu3"
      },
      "execution_count": null,
      "outputs": []
    },
    {
      "cell_type": "code",
      "source": [
        "#cargando el listado de folders/archivos de audio\n",
        "dirs = os.listdir(WAVES_DIR)\n",
        "#sampling_rate: frecuencia de muestreo es el número de esas muestras del audio que hay en un 1 segundo.\n",
        "# 44100 es un standar basado en la teoria de Nyquist\n",
        "# 22050  tambien es aceptable aunque se perderian algunas frecuencias altas, es el mas usado \n",
        "#sampling_rate = 22050\n",
        "dirs"
      ],
      "metadata": {
        "id": "DDhsA6BxdERr",
        "colab": {
          "base_uri": "https://localhost:8080/"
        },
        "outputId": "bd569c02-c8d8-4eef-d64b-483c7fba2c8a"
      },
      "execution_count": null,
      "outputs": [
        {
          "output_type": "execute_result",
          "data": {
            "text/plain": [
              "['1', '2', '3', '4', '5', '6', '8', '9', '10', '7']"
            ]
          },
          "metadata": {},
          "execution_count": 16
        }
      ]
    },
    {
      "cell_type": "code",
      "source": [
        "#--------------------------------------------------\n",
        "# Cantidad de archivos/ longitud dataset\n",
        "#--------------------------------------------------\n",
        "import os\n",
        "count_files = 0\n",
        "old_count = 0\n",
        "#cargando el listado de folders/archivos de audio\n",
        "dirs = os.listdir(WAVES_DIR)\n",
        "for dir in dirs:\n",
        "    waves = os.listdir(WAVES_DIR+ dir +\"/\")\n",
        "    old_count = count_files\n",
        "    for idx_file in  waves:\n",
        "        if os.path.isfile(os.path.join(WAVES_DIR+ dir +\"/\", idx_file)):\n",
        "            count_files += 1\n",
        "    print(WAVES_DIR+ dir +\"/\" +\" :\" +str(count_files - old_count))        \n",
        "print(\"Total Qty audio files: \" + str(count_files))"
      ],
      "metadata": {
        "colab": {
          "base_uri": "https://localhost:8080/"
        },
        "id": "_qJm67r1Ectw",
        "outputId": "50c5a130-30e6-4ff3-c4e2-e642aeb761b8"
      },
      "execution_count": null,
      "outputs": [
        {
          "output_type": "stream",
          "name": "stdout",
          "text": [
            "/content/drive/MyDrive/Thesis/DataSets/BirdsBolivia/audio/test/1/ :2\n",
            "/content/drive/MyDrive/Thesis/DataSets/BirdsBolivia/audio/test/3/ :3\n",
            "/content/drive/MyDrive/Thesis/DataSets/BirdsBolivia/audio/test/2/ :2\n",
            "Total Qty audio files: 7\n"
          ]
        }
      ]
    },
    {
      "cell_type": "code",
      "source": [
        "#--------------------------------------------------\n",
        "# Cantidad de archivos/ longitud dataset\n",
        "#--------------------------------------------------\n",
        "import os\n",
        "count_files = 0\n",
        "old_count = 0\n",
        "#cargando el listado de folders/archivos de audio\n",
        "dirs = os.listdir(SPECTOGRAMS_DIR)\n",
        "for dir in dirs:\n",
        "    waves = os.listdir(SPECTOGRAMS_DIR+ dir +\"/\")\n",
        "    old_count = count_files\n",
        "    for idx_file in  waves:\n",
        "        if os.path.isfile(os.path.join(SPECTOGRAMS_DIR+ dir +\"/\", idx_file)):\n",
        "            count_files += 1\n",
        "    print(SPECTOGRAMS_DIR+ dir +\"/\" +\" :\" +str(count_files - old_count))        \n",
        "print(\"Total Qty audio files: \" + str(count_files))"
      ],
      "metadata": {
        "colab": {
          "base_uri": "https://localhost:8080/"
        },
        "id": "uccMjVqe0XAj",
        "outputId": "7d4dd7e3-665d-4922-9914-b3579cec8881"
      },
      "execution_count": null,
      "outputs": [
        {
          "output_type": "stream",
          "name": "stdout",
          "text": [
            "/content/drive/MyDrive/Thesis/DataSets/BirdsBolivia/images/spect_clipped_maad/bird1/ :799\n",
            "/content/drive/MyDrive/Thesis/DataSets/BirdsBolivia/images/spect_clipped_maad/bird2/ :455\n",
            "/content/drive/MyDrive/Thesis/DataSets/BirdsBolivia/images/spect_clipped_maad/bird3/ :532\n",
            "/content/drive/MyDrive/Thesis/DataSets/BirdsBolivia/images/spect_clipped_maad/bird4/ :533\n",
            "/content/drive/MyDrive/Thesis/DataSets/BirdsBolivia/images/spect_clipped_maad/bird5/ :512\n",
            "/content/drive/MyDrive/Thesis/DataSets/BirdsBolivia/images/spect_clipped_maad/bird6/ :635\n",
            "/content/drive/MyDrive/Thesis/DataSets/BirdsBolivia/images/spect_clipped_maad/bird8/ :352\n",
            "/content/drive/MyDrive/Thesis/DataSets/BirdsBolivia/images/spect_clipped_maad/bird9/ :352\n",
            "/content/drive/MyDrive/Thesis/DataSets/BirdsBolivia/images/spect_clipped_maad/bird10/ :341\n",
            "/content/drive/MyDrive/Thesis/DataSets/BirdsBolivia/images/spect_clipped_maad/bird7/ :332\n",
            "Total Qty audio files: 4843\n"
          ]
        }
      ]
    },
    {
      "cell_type": "markdown",
      "source": [
        "# Espectograma\n",
        "\n",
        "\n",
        "---\n",
        "El espectrograma es una representación visual que permite identificar las diferentes variaciones de la frecuencia y la intensidad del sonido a lo largo de un periodo de tiempo.\n",
        "El espectrograma es el resultado de calcular el espectro de una señal por ventanas de tiempo de la misma. Resulta una gráfica tridimensional que representa la energía del contenido frecuencial de la señal según va variando esta a lo largo del tiempo.\n",
        "\n",
        "El espectrograma es una representación visual de las variaciones de la frecuencia en el eje vertical, y de la intensidad del sonido mediante niveles de colores a lo largo del tiempo que se representa en el eje horizontal. Para la obtención del espectrograma se aplica una transformada de Fourier inicialmente a la señal, mediante el algoritmo de la transformada rápida de Fourier o FFT. Dependiendo del tamaño de la ventana que utilizamos para el análisis de Fourier tendremos diferentes niveles de resolución del espectrograma. Si se aplica una ventana muy grande obtendremos un espectrograma muy detallado pero a costa de incrementar el tiempo de cálculo necesario para esta operación. Para el caso de una ventana demasiado pequeña el efecto es el inverso y no seremos capaces de distinguir los diferentes armónicos si están muy juntos en el espectrograma.\n"
      ],
      "metadata": {
        "id": "84T3ZFdawqmX"
      }
    },
    {
      "cell_type": "code",
      "source": [
        "#references: https://scikit-maad.github.io/_modules/maad/sound/spectral_subtraction.html\n",
        "#-----------------------------------------------------------------------\n",
        "# SPECTROGRAM WITH SCIKIT-MAAD\n",
        "#\n",
        "#-----------------------------------------------------------------------\n",
        "import maad\n",
        "import matplotlib.pyplot as plt \n",
        "import numpy as np\n",
        "\n",
        "def get_spectrogram_maad(wav_file,spec_file):\n",
        "    sound_info, frame_rate = maad.sound.load(wav_file)\n",
        "    Sxx, tn, fn, ext = maad.sound.spectrogram(x=sound_info, fs=frame_rate, fcrop=[0,20000], tcrop=[0,60],cmap='hot')\n",
        "    Sxx_dB = maad.util.power2dB(Sxx, db_range=96) + 96\n",
        "    fig, (ax1) = plt.subplots(1)\n",
        "    ax1.axes.get_xaxis().set_visible(False) ## this  remove the border/frame\n",
        "    ax1.axes.get_yaxis().set_visible(False)##\n",
        "    ax1.set_frame_on(False)##\n",
        "    maad.util.plot2d(Sxx_dB, ax=ax1,extent=ext, vmin=np.median(Sxx_dB), vmax=np.median(Sxx_dB)+40,cmap='hot', colorbar= False ,now=False) ## the parameter now hidden the image on screen\n",
        "    fig.tight_layout()\n",
        "    ######### SAVE THE SPECTROGRAM  AS IMAGE ###########\n",
        "    fig.savefig(spec_file) # This is saved with spec_file name\n",
        "    plt.close(fig) ## the combination close() and  now= parameter in plot2d  hidden the image\n",
        "   "
      ],
      "metadata": {
        "id": "tMJD7u1goyAm"
      },
      "execution_count": null,
      "outputs": []
    },
    {
      "cell_type": "code",
      "source": [
        "get_spectrogram_maad('4_295189_521.wav','4_293002_521.png')"
      ],
      "metadata": {
        "id": "P6-wW50qvfeZ"
      },
      "execution_count": null,
      "outputs": []
    },
    {
      "cell_type": "code",
      "source": [
        "\n",
        "###########################################################\n",
        "## SHOW SPECTTOGRAM\n",
        "###########################################################\n",
        "\n",
        "#test\n",
        "sound_info, frame_rate = maad.sound.load('4_293002_527.wav')\n",
        "Sxx, tn, fn, ext = maad.sound.spectrogram(x=sound_info, fs=frame_rate, fcrop=[0,20000], tcrop=[0,60],cmap='hot')\n",
        "Sxx_dB = maad.util.power2dB(Sxx, db_range=96) + 96\n",
        "fig, (ax1) = plt.subplots(1)\n",
        "ax1.axes.get_xaxis().set_visible(False) ## this  remove the border/frame\n",
        "ax1.axes.get_yaxis().set_visible(False)##\n",
        "ax1.set_frame_on(False)##\n",
        "maad.util.plot2d(Sxx_dB, ax=ax1,extent=ext, vmin=np.median(Sxx_dB), vmax=np.median(Sxx_dB)+40,cmap='hot', colorbar= False ,now=False)\n",
        "#plot2d(Sxx_dB, ax=ax1, extent=ext, title='original', vmin=np.median(Sxx_dB), vmax=np.median(Sxx_dB)+40)\n",
        "#fig.tight_layout()\n",
        "fig.savefig('test18.png')\n",
        "plt.close(fig)\n",
        "print (\"Original sharpness : %2.3f\" % maad.sound.sharpness(Sxx_dB))  "
      ],
      "metadata": {
        "colab": {
          "base_uri": "https://localhost:8080/"
        },
        "id": "OHO2P7UBvdTp",
        "outputId": "f5e50c53-ab05-45e4-a7a8-b3c5adb4c540"
      },
      "execution_count": null,
      "outputs": [
        {
          "output_type": "stream",
          "name": "stdout",
          "text": [
            "Original sharpness : 3.614\n"
          ]
        }
      ]
    },
    {
      "cell_type": "markdown",
      "source": [
        "# Get all spectrograms from audio files\n",
        "\n",
        "\n",
        "---\n",
        "\n",
        "Las diferentes caracteristicas de los sonidos pueden ser representadas a traves de los espectogramas de esta manera convertimos los audios en imagenes, y el problema original de audio ahora se transforma en un problema de imagenes, de esta forma podemos pensar en usar redes neuronales convolucionales y aprovechar las ventajas que tiene este modelo para este tipo de problemas."
      ],
      "metadata": {
        "id": "FMDFG_Znx2Fq"
      }
    },
    {
      "cell_type": "code",
      "source": [
        "#------------------------------------\n",
        "## getting all the spectrograms using MAAD\n",
        "#------------------------------------\n",
        "import time\n",
        "from pathlib import Path\n",
        "#SPECTOGRAMS_DIR = '/content/drive/MyDrive/Thesis/DataSets/BirdsBolivia/spectrograms_pylab/'\n",
        "#SPECTOGRAMS_DIR = '/content/drive/MyDrive/Thesis/Datasets/BirdsBolivia/spectrograms_clipped_pylab/'\n",
        "def generate_spectrograms_maad(namefile):\n",
        "    name = Path(namefile).stem        \n",
        "    #print(name)\n",
        "    #print(name[0])\n",
        "    class_num = name.split(\"_\")\n",
        "    class_num = class_num[0]\n",
        "    class_str =''\n",
        "    if class_num == '1':\n",
        "      class_str= 'bird1'\n",
        "    elif class_num == '2':\n",
        "      class_str='bird2'\n",
        "    elif class_num == '3':\n",
        "      class_str='bird3'\n",
        "    elif class_num == '4':\n",
        "      class_str='bird4'\n",
        "    elif class_num == '5':\n",
        "      class_str='bird5'\n",
        "    elif class_num == '6':\n",
        "      class_str='bird6'\n",
        "    elif class_num == '7':\n",
        "      class_str='bird7'\n",
        "    elif class_num == '8':\n",
        "      class_str='bird8'\n",
        "    elif class_num == '9':\n",
        "      class_str='bird9'\n",
        "    elif class_num == '10':\n",
        "      class_str='bird10'\n",
        "\n",
        "    #print(class_str)\n",
        "    target_dir = SPECTOGRAMS_DIR +class_str+'/'\n",
        "    if not os.path.exists(target_dir):\n",
        "                os.mkdir(target_dir)\n",
        "    target_file = target_dir + name \n",
        "    get_spectrogram_maad(WAVES_DIR + class_num +\"/\"+ namefile,target_file)\n",
        "    del name\n",
        "\n",
        "start1 = time.time()\n",
        "for dir in os.listdir(WAVES_DIR):\n",
        "  ################################################\n",
        "  ## nro de directorio\n",
        "  #if dir == \"5\" or dir == \"6\" or dir == \"7\" or dir == \"8\" or dir == \"9\" or dir == \"10\":    \n",
        "  ################################################    \n",
        "      for name in os.listdir(WAVES_DIR+dir+\"/\"):\n",
        "          audio_path =  WAVES_DIR+dir+\"/\" + name\n",
        "          ######get_spectrogram(audio_path,name)  #librosa\n",
        "          #print(audio_path)\n",
        "          #print(name)\n",
        "          generate_spectrograms_maad(name) # pylab\n",
        "          #print(name +':' +audio_path)\n",
        "end1 = time.time()\n",
        "spectogram_time = end1-start1\n",
        "print(\"----------------- Generating spectograms with SCIKIT-MAAD ---------------\")\n",
        "print(\"Completed Time: {:0.2f} minute\".format(spectogram_time/60.0))\n",
        "#print('Plotting examples:')   "
      ],
      "metadata": {
        "id": "kdMiey0302sb"
      },
      "execution_count": null,
      "outputs": []
    },
    {
      "cell_type": "markdown",
      "source": [
        "##Print all the classes/categories that we have for the target\n",
        "\n",
        "---\n",
        "\n"
      ],
      "metadata": {
        "id": "r2338onXpzHm"
      }
    },
    {
      "cell_type": "code",
      "source": [
        "import os\n",
        "print('root:'+SPECTOGRAMS_DIR)\n",
        "for root, dirs, files in os.walk(SPECTOGRAMS_DIR, topdown=False):   \n",
        "   #for name in files:\n",
        "      #print(os.path.join(root, name))       \n",
        "   for name in dirs:\n",
        "      #print(os.path.join(root, name)) \n",
        "      #print('Clase: '+ name)\n",
        "      initial_count = 0\n",
        "      dir = os.path.join(root, name)\n",
        "      for path in os.listdir(dir):\n",
        "        if os.path.isfile(os.path.join(dir, path)):\n",
        "          initial_count += 1\n",
        "      print('Clase: '+ name+' ; '+'Qty files:'+str(initial_count))\n"
      ],
      "metadata": {
        "colab": {
          "base_uri": "https://localhost:8080/"
        },
        "id": "6AJWOqnAQOzW",
        "outputId": "b8887a29-e8f5-4261-b4a8-f9f014fa57c9"
      },
      "execution_count": null,
      "outputs": [
        {
          "output_type": "stream",
          "name": "stdout",
          "text": [
            "root:/content/drive/MyDrive/DataSets/FreeSpokenDigitDataset/spectrograms_pylab/\n",
            "Clase: five ; Qty files:300\n",
            "Clase: four ; Qty files:300\n",
            "Clase: three ; Qty files:300\n",
            "Clase: two ; Qty files:300\n",
            "Clase: one ; Qty files:300\n",
            "Clase: zero ; Qty files:300\n",
            "Clase: nigth ; Qty files:0\n",
            "Clase: seven ; Qty files:300\n",
            "Clase: six ; Qty files:300\n",
            "Clase: eigth ; Qty files:300\n",
            "Clase: nine ; Qty files:300\n"
          ]
        }
      ]
    }
  ]
}